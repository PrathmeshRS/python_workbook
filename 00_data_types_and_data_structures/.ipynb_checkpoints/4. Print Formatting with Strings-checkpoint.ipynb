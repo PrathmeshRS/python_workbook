{
 "cells": [
  {
   "cell_type": "markdown",
   "id": "a0e2aa00",
   "metadata": {},
   "source": [
    "## 1. Formatting with place holders"
   ]
  },
  {
   "cell_type": "markdown",
   "id": "8cfd8f08",
   "metadata": {},
   "source": [
    "#### You can use <code>%s</code> to inject strings into your print statements. The modulo `%` is referred to as a \"string formatting operator\"."
   ]
  },
  {
   "cell_type": "code",
   "execution_count": 1,
   "id": "06598eec",
   "metadata": {},
   "outputs": [
    {
     "name": "stdout",
     "output_type": "stream",
     "text": [
      "I am a computer engineer\n"
     ]
    }
   ],
   "source": [
    "print('I am a %s engineer' %'computer')"
   ]
  },
  {
   "cell_type": "markdown",
   "id": "0c953d5e",
   "metadata": {},
   "source": [
    "#### You can pass multiple items by placing them inside a tuple after the `%` operator."
   ]
  },
  {
   "cell_type": "code",
   "execution_count": 2,
   "id": "02d31d4c",
   "metadata": {},
   "outputs": [
    {
     "name": "stdout",
     "output_type": "stream",
     "text": [
      "My name is Prathmesh and I am 23 years old. I love reading\n"
     ]
    }
   ],
   "source": [
    "print('My name is %s and I am %d years old. I love %s' %('Prathmesh', 23, 'reading'))"
   ]
  },
  {
   "cell_type": "code",
   "execution_count": 3,
   "id": "16975f2a",
   "metadata": {},
   "outputs": [
    {
     "name": "stdout",
     "output_type": "stream",
     "text": [
      "I have a dozen apples and 5 bananas\n"
     ]
    }
   ],
   "source": [
    "a,b = 'dozen', 5\n",
    "print('I have a %s apples and %d bananas' %(a, b))"
   ]
  },
  {
   "cell_type": "markdown",
   "id": "1fcdfa68",
   "metadata": {},
   "source": [
    "### 1.a Format conversion methods"
   ]
  },
  {
   "cell_type": "markdown",
   "id": "1428b3d0",
   "metadata": {},
   "source": [
    "#### i) <code>%s</code> converts any object to string first using the str() method\n",
    "#### ii) <code>%r</code> gives the string representation of the object including quotation marks and escape characters using repr() method"
   ]
  },
  {
   "cell_type": "code",
   "execution_count": null,
   "id": "99fe6a45",
   "metadata": {},
   "outputs": [],
   "source": []
  }
 ],
 "metadata": {
  "kernelspec": {
   "display_name": "Python 3 (ipykernel)",
   "language": "python",
   "name": "python3"
  },
  "language_info": {
   "codemirror_mode": {
    "name": "ipython",
    "version": 3
   },
   "file_extension": ".py",
   "mimetype": "text/x-python",
   "name": "python",
   "nbconvert_exporter": "python",
   "pygments_lexer": "ipython3",
   "version": "3.8.8"
  }
 },
 "nbformat": 4,
 "nbformat_minor": 5
}
