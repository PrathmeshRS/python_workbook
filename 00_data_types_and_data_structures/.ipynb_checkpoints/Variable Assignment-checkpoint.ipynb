{
 "cells": [
  {
   "cell_type": "markdown",
   "id": "ddb89b58",
   "metadata": {},
   "source": [
    "## Dynamic Typing\n",
    "#### Python uses *dynamic typing*, meaning you can reassign variables to different data types. This makes Python very flexible in assigning data types; it differs from other languages that are *statically typed*."
   ]
  },
  {
   "cell_type": "code",
   "execution_count": 1,
   "id": "e83fe8fa",
   "metadata": {},
   "outputs": [
    {
     "data": {
      "text/plain": [
       "int"
      ]
     },
     "execution_count": 1,
     "metadata": {},
     "output_type": "execute_result"
    }
   ],
   "source": [
    "todo = 123\n",
    "type(todo)"
   ]
  },
  {
   "cell_type": "code",
   "execution_count": 2,
   "id": "31db6343",
   "metadata": {},
   "outputs": [
    {
     "data": {
      "text/plain": [
       "str"
      ]
     },
     "execution_count": 2,
     "metadata": {},
     "output_type": "execute_result"
    }
   ],
   "source": [
    "todo = 'Groceries and laundry'\n",
    "type(todo)"
   ]
  },
  {
   "cell_type": "code",
   "execution_count": 3,
   "id": "e9782885",
   "metadata": {},
   "outputs": [
    {
     "data": {
      "text/plain": [
       "list"
      ]
     },
     "execution_count": 3,
     "metadata": {},
     "output_type": "execute_result"
    }
   ],
   "source": [
    "todo = ['Homework', 213, 'Cooking', ['Brush', 'Sleep']]\n",
    "type(todo)"
   ]
  },
  {
   "cell_type": "markdown",
   "id": "7ac136f2",
   "metadata": {},
   "source": [
    "#### Benifits: Easy to work with, Faster development\n",
    "#### Cons: Unexpected bugs\n",
    "#### Tip: Beaware of type() while working with variables"
   ]
  },
  {
   "cell_type": "markdown",
   "id": "6f36b209",
   "metadata": {},
   "source": [
    "## Variable Assignement"
   ]
  },
  {
   "cell_type": "code",
   "execution_count": 6,
   "id": "8c954ebb",
   "metadata": {},
   "outputs": [
    {
     "data": {
      "text/plain": [
       "(int, str)"
      ]
     },
     "execution_count": 6,
     "metadata": {},
     "output_type": "execute_result"
    }
   ],
   "source": [
    "# We use '=' sign for assigning value to varaibles\n",
    "a = 10\n",
    "b = 'Hello World'\n",
    "type(a), type(b)"
   ]
  },
  {
   "cell_type": "markdown",
   "id": "ab655a6d",
   "metadata": {},
   "source": [
    "## Variable Reassignement"
   ]
  },
  {
   "cell_type": "code",
   "execution_count": 10,
   "id": "a1db0144",
   "metadata": {},
   "outputs": [],
   "source": [
    "a = 100\n",
    "b = 2000"
   ]
  },
  {
   "cell_type": "code",
   "execution_count": 11,
   "id": "b5baca33",
   "metadata": {},
   "outputs": [
    {
     "name": "stdout",
     "output_type": "stream",
     "text": [
      "2000\n",
      "200.0\n",
      "2034\n",
      "179.0\n",
      "4\n",
      "35.0\n",
      "16\n"
     ]
    }
   ],
   "source": [
    "a *= 20\n",
    "print(a)\n",
    "# Above code means a = a*20\n",
    "b /= 10\n",
    "print(b)\n",
    "# Above code means b = b/10\n",
    "a += 34\n",
    "print(a)\n",
    "# Above code means a = a+34\n",
    "b -= 21\n",
    "print(b)\n",
    "# Above code means b = b-21\n",
    "a %= 7\n",
    "print(a)\n",
    "# Above code means a = a%7\n",
    "b //= 5\n",
    "print(b)\n",
    "# Above code means b = b//7\n",
    "a **= 2\n",
    "print(a)\n",
    "# Above code means a = a**2"
   ]
  }
 ],
 "metadata": {
  "kernelspec": {
   "display_name": "Python 3 (ipykernel)",
   "language": "python",
   "name": "python3"
  },
  "language_info": {
   "codemirror_mode": {
    "name": "ipython",
    "version": 3
   },
   "file_extension": ".py",
   "mimetype": "text/x-python",
   "name": "python",
   "nbconvert_exporter": "python",
   "pygments_lexer": "ipython3",
   "version": "3.8.8"
  }
 },
 "nbformat": 4,
 "nbformat_minor": 5
}
