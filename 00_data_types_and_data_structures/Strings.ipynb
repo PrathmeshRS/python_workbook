{
 "cells": [
  {
   "cell_type": "markdown",
   "id": "2eb65517",
   "metadata": {},
   "source": [
    "## String Creation"
   ]
  },
  {
   "cell_type": "markdown",
   "id": "3ae958ce",
   "metadata": {},
   "source": [
    "#### You can use single quotes or double quotes to create/denote a string. A combination of both can be useful when dealing with apostrophe"
   ]
  },
  {
   "cell_type": "code",
   "execution_count": 3,
   "id": "e74182cd",
   "metadata": {},
   "outputs": [
    {
     "data": {
      "text/plain": [
       "('Prathmesh R S', str)"
      ]
     },
     "execution_count": 3,
     "metadata": {},
     "output_type": "execute_result"
    }
   ],
   "source": [
    "name = 'Prathmesh R S'\n",
    "name, type(name)"
   ]
  },
  {
   "cell_type": "code",
   "execution_count": 4,
   "id": "837180df",
   "metadata": {},
   "outputs": [
    {
     "data": {
      "text/plain": [
       "('Data Scientist', str)"
      ]
     },
     "execution_count": 4,
     "metadata": {},
     "output_type": "execute_result"
    }
   ],
   "source": [
    "designation = \"Data Scientist\"\n",
    "designation, type(designation)"
   ]
  },
  {
   "cell_type": "code",
   "execution_count": 5,
   "id": "43a8c724",
   "metadata": {},
   "outputs": [
    {
     "ename": "SyntaxError",
     "evalue": "invalid syntax (2886884179.py, line 2)",
     "output_type": "error",
     "traceback": [
      "\u001b[0;36m  File \u001b[0;32m\"/tmp/ipykernel_10465/2886884179.py\"\u001b[0;36m, line \u001b[0;32m2\u001b[0m\n\u001b[0;31m    bio = 'I'm an engineer and coding is my hobby'\u001b[0m\n\u001b[0m             ^\u001b[0m\n\u001b[0;31mSyntaxError\u001b[0m\u001b[0;31m:\u001b[0m invalid syntax\n"
     ]
    }
   ],
   "source": [
    "# Following code will cause error. Because the first quote will get matched to the one used as apostrophe in I'm\n",
    "bio = 'I'm an engineer and coding is my hobby'"
   ]
  },
  {
   "cell_type": "code",
   "execution_count": 6,
   "id": "f403deb2",
   "metadata": {},
   "outputs": [
    {
     "data": {
      "text/plain": [
       "\"I'm an engineer and coding is my hobby\""
      ]
     },
     "execution_count": 6,
     "metadata": {},
     "output_type": "execute_result"
    }
   ],
   "source": [
    "# The correct code must be\n",
    "bio = \"I'm an engineer and coding is my hobby\"\n",
    "bio"
   ]
  },
  {
   "cell_type": "markdown",
   "id": "6946884a",
   "metadata": {},
   "source": [
    "## Printing a string"
   ]
  },
  {
   "cell_type": "markdown",
   "id": "b4cf159a",
   "metadata": {},
   "source": [
    "### 1. By string declaration (valid only in jupyter notebook)"
   ]
  },
  {
   "cell_type": "code",
   "execution_count": 7,
   "id": "9f2ac28f",
   "metadata": {},
   "outputs": [
    {
     "data": {
      "text/plain": [
       "'Happy New Year!'"
      ]
     },
     "execution_count": 7,
     "metadata": {},
     "output_type": "execute_result"
    }
   ],
   "source": [
    "'Happy New Year!'"
   ]
  },
  {
   "cell_type": "code",
   "execution_count": 12,
   "id": "35931508",
   "metadata": {},
   "outputs": [
    {
     "data": {
      "text/plain": [
       "'Or maybe trying out a new hobby? \\n take your time to decide'"
      ]
     },
     "execution_count": 12,
     "metadata": {},
     "output_type": "execute_result"
    }
   ],
   "source": [
    "# By string declaration only the last string will get printed\n",
    "'What are your goals for this year?'\n",
    "\"How about learning a new skill?\"\n",
    "'Or maybe trying out a new hobby? \\n take your time to decide'"
   ]
  },
  {
   "cell_type": "markdown",
   "id": "1613cce0",
   "metadata": {},
   "source": [
    "### 2. By print function"
   ]
  },
  {
   "cell_type": "code",
   "execution_count": 11,
   "id": "f9261e1f",
   "metadata": {},
   "outputs": [
    {
     "name": "stdout",
     "output_type": "stream",
     "text": [
      "I am  23 years old!\n",
      "Ok let\"s play a game\n"
     ]
    }
   ],
   "source": [
    "print ('I am ', 23, 'years old!')\n",
    "# You should not concatenate string to float\n",
    "# print ('I am ' + 6.1 + \"feet tall\")\n",
    "print ('Ok let\"s play ' + \"a game\")"
   ]
  },
  {
   "cell_type": "code",
   "execution_count": 15,
   "id": "aa75efbf",
   "metadata": {},
   "outputs": [
    {
     "name": "stdout",
     "output_type": "stream",
     "text": [
      "My hobbies are: \n",
      "1.Reading \t2.Cooking \n",
      "3.Poetry \t4.Coding\n"
     ]
    }
   ],
   "source": [
    "print(\"My hobbies are: \\n1.Reading \\t2.Cooking \\n3.Poetry \\t4.Coding\")"
   ]
  },
  {
   "cell_type": "markdown",
   "id": "00a0fb8e",
   "metadata": {},
   "source": [
    "#### '\\n' is for new line and '\\t' is for new tab. These can only be used in a print statement"
   ]
  },
  {
   "cell_type": "markdown",
   "id": "cfcc707d",
   "metadata": {},
   "source": [
    "## String Indexing and Slicing"
   ]
  },
  {
   "cell_type": "markdown",
   "id": "95f8d268",
   "metadata": {},
   "source": [
    "### 1. Indexing"
   ]
  },
  {
   "cell_type": "code",
   "execution_count": 17,
   "id": "438dfa20",
   "metadata": {},
   "outputs": [
    {
     "data": {
      "text/plain": [
       "'Messi the GOAT won 2022 FIFA WORLD CUP!'"
      ]
     },
     "execution_count": 17,
     "metadata": {},
     "output_type": "execute_result"
    }
   ],
   "source": [
    "text = 'Messi the GOAT won 2022 FIFA WORLD CUP!'\n",
    "text"
   ]
  },
  {
   "cell_type": "code",
   "execution_count": 18,
   "id": "9ab93d89",
   "metadata": {},
   "outputs": [
    {
     "data": {
      "text/plain": [
       "'M'"
      ]
     },
     "execution_count": 18,
     "metadata": {},
     "output_type": "execute_result"
    }
   ],
   "source": [
    "text[0]"
   ]
  },
  {
   "cell_type": "markdown",
   "id": "4a04fcc4",
   "metadata": {},
   "source": [
    "#### We use square bracketss '[]' for indexing and slicing purposes"
   ]
  },
  {
   "cell_type": "code",
   "execution_count": 22,
   "id": "1710c324",
   "metadata": {},
   "outputs": [
    {
     "data": {
      "text/plain": [
       "'e'"
      ]
     },
     "execution_count": 22,
     "metadata": {},
     "output_type": "execute_result"
    }
   ],
   "source": [
    "text[1]"
   ]
  },
  {
   "cell_type": "code",
   "execution_count": 19,
   "id": "abc6aa2b",
   "metadata": {},
   "outputs": [
    {
     "data": {
      "text/plain": [
       "'G'"
      ]
     },
     "execution_count": 19,
     "metadata": {},
     "output_type": "execute_result"
    }
   ],
   "source": [
    "text[10]"
   ]
  },
  {
   "cell_type": "code",
   "execution_count": 20,
   "id": "72fe1473",
   "metadata": {},
   "outputs": [
    {
     "data": {
      "text/plain": [
       "'!'"
      ]
     },
     "execution_count": 20,
     "metadata": {},
     "output_type": "execute_result"
    }
   ],
   "source": [
    "text[-1]"
   ]
  },
  {
   "cell_type": "code",
   "execution_count": 21,
   "id": "6fb088e7",
   "metadata": {},
   "outputs": [
    {
     "data": {
      "text/plain": [
       "'P'"
      ]
     },
     "execution_count": 21,
     "metadata": {},
     "output_type": "execute_result"
    }
   ],
   "source": [
    "text[-2]"
   ]
  },
  {
   "cell_type": "markdown",
   "id": "fdc78d60",
   "metadata": {},
   "source": [
    "### 2. Slicing"
   ]
  },
  {
   "cell_type": "markdown",
   "id": "aa02d4d8",
   "metadata": {},
   "source": [
    "#### We use ':' for slicing"
   ]
  },
  {
   "cell_type": "code",
   "execution_count": 31,
   "id": "7942d407",
   "metadata": {},
   "outputs": [
    {
     "data": {
      "text/plain": [
       "'Messi the GOAT won 2022 FIFA WORLD CUP!'"
      ]
     },
     "execution_count": 31,
     "metadata": {},
     "output_type": "execute_result"
    }
   ],
   "source": [
    "text[:]"
   ]
  },
  {
   "cell_type": "code",
   "execution_count": 23,
   "id": "2aec2bf7",
   "metadata": {},
   "outputs": [
    {
     "data": {
      "text/plain": [
       "'Messi the GOAT won 2022 FIFA WORLD CUP'"
      ]
     },
     "execution_count": 23,
     "metadata": {},
     "output_type": "execute_result"
    }
   ],
   "source": [
    "text[0:-1]"
   ]
  },
  {
   "cell_type": "code",
   "execution_count": 29,
   "id": "2d2e3ad4",
   "metadata": {},
   "outputs": [
    {
     "data": {
      "text/plain": [
       "'Messi the GOAT won 2022 FIFA WORLD CUP'"
      ]
     },
     "execution_count": 29,
     "metadata": {},
     "output_type": "execute_result"
    }
   ],
   "source": [
    "text[:-1]\n",
    "# Notice the character at position '-1' is excluded. Index on RHS of ':' is excluded but on LHS included "
   ]
  },
  {
   "cell_type": "code",
   "execution_count": 24,
   "id": "ccc5f704",
   "metadata": {},
   "outputs": [
    {
     "data": {
      "text/plain": [
       "'Messi the GOAT won 2022 FIFA WORLD CUP!'"
      ]
     },
     "execution_count": 24,
     "metadata": {},
     "output_type": "execute_result"
    }
   ],
   "source": [
    "text[0:]"
   ]
  },
  {
   "cell_type": "code",
   "execution_count": 30,
   "id": "c3b6b4db",
   "metadata": {},
   "outputs": [
    {
     "data": {
      "text/plain": [
       "'Messi the GOAT won 2022 FIFA WORLD '"
      ]
     },
     "execution_count": 30,
     "metadata": {},
     "output_type": "execute_result"
    }
   ],
   "source": [
    "text[0:len(text)-4]"
   ]
  },
  {
   "cell_type": "markdown",
   "id": "c7557ece",
   "metadata": {},
   "source": [
    "### 2.2 Slicing with stepping i.e jumping"
   ]
  },
  {
   "cell_type": "markdown",
   "id": "c2983918",
   "metadata": {},
   "source": [
    "#### The third parameter in indexing square brackets is used for stepping"
   ]
  },
  {
   "cell_type": "code",
   "execution_count": 32,
   "id": "d3f25215",
   "metadata": {},
   "outputs": [
    {
     "data": {
      "text/plain": [
       "'Messi the GOAT won 2022 FIFA WORLD CUP!'"
      ]
     },
     "execution_count": 32,
     "metadata": {},
     "output_type": "execute_result"
    }
   ],
   "source": [
    "text"
   ]
  },
  {
   "cell_type": "code",
   "execution_count": 33,
   "id": "761379cb",
   "metadata": {},
   "outputs": [
    {
     "data": {
      "text/plain": [
       "'Messi the GOAT won 2022 FIFA WORLD CUP!'"
      ]
     },
     "execution_count": 33,
     "metadata": {},
     "output_type": "execute_result"
    }
   ],
   "source": [
    "text[::1]"
   ]
  },
  {
   "cell_type": "code",
   "execution_count": 34,
   "id": "2abf46aa",
   "metadata": {},
   "outputs": [
    {
     "data": {
      "text/plain": [
       "'MsiteGA o 02FF OL U!'"
      ]
     },
     "execution_count": 34,
     "metadata": {},
     "output_type": "execute_result"
    }
   ],
   "source": [
    "text[::2]"
   ]
  },
  {
   "cell_type": "code",
   "execution_count": 39,
   "id": "4d723fda",
   "metadata": {},
   "outputs": [
    {
     "data": {
      "text/plain": [
       "'!PUC DLROW AFIF 2202 now TAOG eht isseM'"
      ]
     },
     "execution_count": 39,
     "metadata": {},
     "output_type": "execute_result"
    }
   ],
   "source": [
    "# Reversing the string i.e printing backwards\n",
    "text[-1::-1]"
   ]
  },
  {
   "cell_type": "code",
   "execution_count": 40,
   "id": "8d1cdbd7",
   "metadata": {},
   "outputs": [
    {
     "data": {
      "text/plain": [
       "'!PUC DLROW AFIF 2202 now TAOG eht isseM'"
      ]
     },
     "execution_count": 40,
     "metadata": {},
     "output_type": "execute_result"
    }
   ],
   "source": [
    "text[::-1]"
   ]
  },
  {
   "cell_type": "markdown",
   "id": "9e98a1eb",
   "metadata": {},
   "source": [
    "## String Properties"
   ]
  },
  {
   "cell_type": "markdown",
   "id": "39216b22",
   "metadata": {},
   "source": [
    "### 1. Immutability\n",
    "##### You cannot/edit change a string once assigned/created"
   ]
  },
  {
   "cell_type": "code",
   "execution_count": 41,
   "id": "d12bf46d",
   "metadata": {},
   "outputs": [
    {
     "data": {
      "text/plain": [
       "'Messi the GOAT won 2022 FIFA WORLD CUP!'"
      ]
     },
     "execution_count": 41,
     "metadata": {},
     "output_type": "execute_result"
    }
   ],
   "source": [
    "text"
   ]
  },
  {
   "cell_type": "code",
   "execution_count": 43,
   "id": "1f56825c",
   "metadata": {},
   "outputs": [
    {
     "ename": "TypeError",
     "evalue": "'str' object does not support item assignment",
     "output_type": "error",
     "traceback": [
      "\u001b[0;31m---------------------------------------------------------------------------\u001b[0m",
      "\u001b[0;31mTypeError\u001b[0m                                 Traceback (most recent call last)",
      "\u001b[0;32m/tmp/ipykernel_10465/3217990198.py\u001b[0m in \u001b[0;36m<module>\u001b[0;34m\u001b[0m\n\u001b[0;32m----> 1\u001b[0;31m \u001b[0mtext\u001b[0m\u001b[0;34m[\u001b[0m\u001b[0;36m0\u001b[0m\u001b[0;34m]\u001b[0m \u001b[0;34m=\u001b[0m \u001b[0;34m'J'\u001b[0m\u001b[0;34m\u001b[0m\u001b[0;34m\u001b[0m\u001b[0m\n\u001b[0m",
      "\u001b[0;31mTypeError\u001b[0m: 'str' object does not support item assignment"
     ]
    }
   ],
   "source": [
    "text[0] = 'J'"
   ]
  },
  {
   "cell_type": "code",
   "execution_count": 44,
   "id": "af4d2afe",
   "metadata": {},
   "outputs": [
    {
     "ename": "TypeError",
     "evalue": "'str' object does not support item assignment",
     "output_type": "error",
     "traceback": [
      "\u001b[0;31m---------------------------------------------------------------------------\u001b[0m",
      "\u001b[0;31mTypeError\u001b[0m                                 Traceback (most recent call last)",
      "\u001b[0;32m/tmp/ipykernel_10465/446163021.py\u001b[0m in \u001b[0;36m<module>\u001b[0;34m\u001b[0m\n\u001b[0;32m----> 1\u001b[0;31m \u001b[0mtext\u001b[0m\u001b[0;34m[\u001b[0m\u001b[0;36m0\u001b[0m\u001b[0;34m:\u001b[0m\u001b[0;36m4\u001b[0m\u001b[0;34m]\u001b[0m\u001b[0;34m=\u001b[0m\u001b[0;34m'Jessi'\u001b[0m\u001b[0;34m\u001b[0m\u001b[0;34m\u001b[0m\u001b[0m\n\u001b[0m",
      "\u001b[0;31mTypeError\u001b[0m: 'str' object does not support item assignment"
     ]
    }
   ],
   "source": [
    "text[0:4]='Jessi'"
   ]
  },
  {
   "cell_type": "markdown",
   "id": "79e5588b",
   "metadata": {},
   "source": [
    "#### But you can reassign it"
   ]
  },
  {
   "cell_type": "code",
   "execution_count": 48,
   "id": "2258759e",
   "metadata": {},
   "outputs": [],
   "source": [
    "text = 'Ronaldo was gifted a Rolls Royce by his girlfriend. '"
   ]
  },
  {
   "cell_type": "code",
   "execution_count": 49,
   "id": "bbb7126c",
   "metadata": {},
   "outputs": [
    {
     "data": {
      "text/plain": [
       "'Ronaldo was gifted a Rolls Royce by his girlfriend. '"
      ]
     },
     "execution_count": 49,
     "metadata": {},
     "output_type": "execute_result"
    }
   ],
   "source": [
    "text"
   ]
  },
  {
   "cell_type": "markdown",
   "id": "d14958b0",
   "metadata": {},
   "source": [
    "### 2. String concatenation"
   ]
  },
  {
   "cell_type": "code",
   "execution_count": 54,
   "id": "0334d411",
   "metadata": {},
   "outputs": [
    {
     "data": {
      "text/plain": [
       "'Ronaldo was gifted a Rolls Royce by his girlfriend. What an expensive gift. Might be a world record of all the girlfriends on earthThe bedroom of Messi will be converted into a mini museum'"
      ]
     },
     "execution_count": 54,
     "metadata": {},
     "output_type": "execute_result"
    }
   ],
   "source": [
    "text + 'The bedroom of Messi will be converted into a mini museum'"
   ]
  },
  {
   "cell_type": "code",
   "execution_count": 55,
   "id": "e6d50534",
   "metadata": {},
   "outputs": [
    {
     "data": {
      "text/plain": [
       "'Ronaldo was gifted a Rolls Royce by his girlfriend. What an expensive gift. Might be a world record of all the girlfriends on earth'"
      ]
     },
     "execution_count": 55,
     "metadata": {},
     "output_type": "execute_result"
    }
   ],
   "source": [
    "text"
   ]
  },
  {
   "cell_type": "code",
   "execution_count": 56,
   "id": "a8ab4c7f",
   "metadata": {},
   "outputs": [],
   "source": [
    "text = text + 'What an expensive gift. Might be a world record of all the girlfriends on earth'"
   ]
  },
  {
   "cell_type": "code",
   "execution_count": 57,
   "id": "3ff19125",
   "metadata": {},
   "outputs": [
    {
     "data": {
      "text/plain": [
       "'Ronaldo was gifted a Rolls Royce by his girlfriend. What an expensive gift. Might be a world record of all the girlfriends on earthWhat an expensive gift. Might be a world record of all the girlfriends on earth'"
      ]
     },
     "execution_count": 57,
     "metadata": {},
     "output_type": "execute_result"
    }
   ],
   "source": [
    "text"
   ]
  },
  {
   "cell_type": "markdown",
   "id": "6cd3c528",
   "metadata": {},
   "source": [
    "## String Methods"
   ]
  },
  {
   "cell_type": "code",
   "execution_count": 58,
   "id": "061a5910",
   "metadata": {},
   "outputs": [
    {
     "data": {
      "text/plain": [
       "21"
      ]
     },
     "execution_count": 58,
     "metadata": {},
     "output_type": "execute_result"
    }
   ],
   "source": [
    "text.index('Rolls')"
   ]
  },
  {
   "cell_type": "code",
   "execution_count": 59,
   "id": "3ec3c256",
   "metadata": {},
   "outputs": [
    {
     "data": {
      "text/plain": [
       "'RONALDO WAS GIFTED A ROLLS ROYCE BY HIS GIRLFRIEND. WHAT AN EXPENSIVE GIFT. MIGHT BE A WORLD RECORD OF ALL THE GIRLFRIENDS ON EARTHWHAT AN EXPENSIVE GIFT. MIGHT BE A WORLD RECORD OF ALL THE GIRLFRIENDS ON EARTH'"
      ]
     },
     "execution_count": 59,
     "metadata": {},
     "output_type": "execute_result"
    }
   ],
   "source": [
    "text.upper()"
   ]
  },
  {
   "cell_type": "code",
   "execution_count": 60,
   "id": "e6239275",
   "metadata": {},
   "outputs": [
    {
     "data": {
      "text/plain": [
       "'ronaldo was gifted a rolls royce by his girlfriend. what an expensive gift. might be a world record of all the girlfriends on earthwhat an expensive gift. might be a world record of all the girlfriends on earth'"
      ]
     },
     "execution_count": 60,
     "metadata": {},
     "output_type": "execute_result"
    }
   ],
   "source": [
    "text.lower()"
   ]
  },
  {
   "cell_type": "code",
   "execution_count": 62,
   "id": "b4aec958",
   "metadata": {},
   "outputs": [
    {
     "data": {
      "text/plain": [
       "14"
      ]
     },
     "execution_count": 62,
     "metadata": {},
     "output_type": "execute_result"
    }
   ],
   "source": [
    "text.count('r')"
   ]
  },
  {
   "cell_type": "code",
   "execution_count": 63,
   "id": "e605d4ba",
   "metadata": {},
   "outputs": [
    {
     "data": {
      "text/plain": [
       "3"
      ]
     },
     "execution_count": 63,
     "metadata": {},
     "output_type": "execute_result"
    }
   ],
   "source": [
    "text.count('R')"
   ]
  },
  {
   "cell_type": "code",
   "execution_count": 64,
   "id": "3353188f",
   "metadata": {},
   "outputs": [
    {
     "data": {
      "text/plain": [
       "60"
      ]
     },
     "execution_count": 64,
     "metadata": {},
     "output_type": "execute_result"
    }
   ],
   "source": [
    "text.find('expensive')"
   ]
  },
  {
   "cell_type": "code",
   "execution_count": 67,
   "id": "c20ca067",
   "metadata": {},
   "outputs": [
    {
     "data": {
      "text/plain": [
       "'Ronaldo was gifted a rolls royce by his girlfriend. what an expensive gift. might be a world record of all the girlfriends on earthwhat an expensive gift. might be a world record of all the girlfriends on earth'"
      ]
     },
     "execution_count": 67,
     "metadata": {},
     "output_type": "execute_result"
    }
   ],
   "source": [
    "text.capitalize()"
   ]
  },
  {
   "cell_type": "code",
   "execution_count": 68,
   "id": "301230a5",
   "metadata": {},
   "outputs": [
    {
     "data": {
      "text/plain": [
       "'Ronaldo Was Gifted A Rolls Royce By His Girlfriend. What An Expensive Gift. Might Be A World Record Of All The Girlfriends On Earthwhat An Expensive Gift. Might Be A World Record Of All The Girlfriends On Earth'"
      ]
     },
     "execution_count": 68,
     "metadata": {},
     "output_type": "execute_result"
    }
   ],
   "source": [
    "text.lower().title()"
   ]
  },
  {
   "cell_type": "code",
   "execution_count": 71,
   "id": "37be7661",
   "metadata": {},
   "outputs": [
    {
     "data": {
      "text/plain": [
       "'                       hehe                       '"
      ]
     },
     "execution_count": 71,
     "metadata": {},
     "output_type": "execute_result"
    }
   ],
   "source": [
    "'hehe'.center(50)"
   ]
  },
  {
   "cell_type": "code",
   "execution_count": 73,
   "id": "20d140dc",
   "metadata": {},
   "outputs": [
    {
     "data": {
      "text/plain": [
       "'00000000001000'"
      ]
     },
     "execution_count": 73,
     "metadata": {},
     "output_type": "execute_result"
    }
   ],
   "source": [
    "\"1000\".zfill(14)"
   ]
  },
  {
   "cell_type": "code",
   "execution_count": 74,
   "id": "b45be6b4",
   "metadata": {},
   "outputs": [
    {
     "data": {
      "text/plain": [
       "False"
      ]
     },
     "execution_count": 74,
     "metadata": {},
     "output_type": "execute_result"
    }
   ],
   "source": [
    "text.isalnum()"
   ]
  },
  {
   "cell_type": "code",
   "execution_count": 75,
   "id": "02acc4b0",
   "metadata": {},
   "outputs": [
    {
     "data": {
      "text/plain": [
       "True"
      ]
     },
     "execution_count": 75,
     "metadata": {},
     "output_type": "execute_result"
    }
   ],
   "source": [
    "'A12DEZ424'.isalnum()"
   ]
  },
  {
   "cell_type": "code",
   "execution_count": 76,
   "id": "4f8ec1a0",
   "metadata": {},
   "outputs": [
    {
     "data": {
      "text/plain": [
       "True"
      ]
     },
     "execution_count": 76,
     "metadata": {},
     "output_type": "execute_result"
    }
   ],
   "source": [
    "text.isascii()"
   ]
  },
  {
   "cell_type": "code",
   "execution_count": 77,
   "id": "adf997d5",
   "metadata": {},
   "outputs": [
    {
     "data": {
      "text/plain": [
       "False"
      ]
     },
     "execution_count": 77,
     "metadata": {},
     "output_type": "execute_result"
    }
   ],
   "source": [
    "text.isalpha()"
   ]
  },
  {
   "cell_type": "code",
   "execution_count": 78,
   "id": "6ffa9436",
   "metadata": {},
   "outputs": [
    {
     "data": {
      "text/plain": [
       "True"
      ]
     },
     "execution_count": 78,
     "metadata": {},
     "output_type": "execute_result"
    }
   ],
   "source": [
    "'AdfaWQ'.isalpha()"
   ]
  },
  {
   "cell_type": "code",
   "execution_count": 79,
   "id": "8de5e298",
   "metadata": {},
   "outputs": [
    {
     "data": {
      "text/plain": [
       "False"
      ]
     },
     "execution_count": 79,
     "metadata": {},
     "output_type": "execute_result"
    }
   ],
   "source": [
    "text.isspace()"
   ]
  },
  {
   "cell_type": "code",
   "execution_count": 80,
   "id": "1c135d48",
   "metadata": {},
   "outputs": [
    {
     "data": {
      "text/plain": [
       "True"
      ]
     },
     "execution_count": 80,
     "metadata": {},
     "output_type": "execute_result"
    }
   ],
   "source": [
    "'   '.isspace()"
   ]
  },
  {
   "cell_type": "code",
   "execution_count": 81,
   "id": "74395d44",
   "metadata": {},
   "outputs": [
    {
     "data": {
      "text/plain": [
       "'Meow-*-meow-*-Meow'"
      ]
     },
     "execution_count": 81,
     "metadata": {},
     "output_type": "execute_result"
    }
   ],
   "source": [
    "'-*-'.join(['Meow','meow', 'Meow'])"
   ]
  },
  {
   "cell_type": "code",
   "execution_count": 82,
   "id": "1a19ed0f",
   "metadata": {},
   "outputs": [
    {
     "data": {
      "text/plain": [
       "['Ronaldo',\n",
       " 'was',\n",
       " 'gifted',\n",
       " 'a',\n",
       " 'Rolls',\n",
       " 'Royce',\n",
       " 'by',\n",
       " 'his',\n",
       " 'girlfriend.',\n",
       " 'What',\n",
       " 'an',\n",
       " 'expensive',\n",
       " 'gift.',\n",
       " 'Might',\n",
       " 'be',\n",
       " 'a',\n",
       " 'world',\n",
       " 'record',\n",
       " 'of',\n",
       " 'all',\n",
       " 'the',\n",
       " 'girlfriends',\n",
       " 'on',\n",
       " 'earthWhat',\n",
       " 'an',\n",
       " 'expensive',\n",
       " 'gift.',\n",
       " 'Might',\n",
       " 'be',\n",
       " 'a',\n",
       " 'world',\n",
       " 'record',\n",
       " 'of',\n",
       " 'all',\n",
       " 'the',\n",
       " 'girlfriends',\n",
       " 'on',\n",
       " 'earth']"
      ]
     },
     "execution_count": 82,
     "metadata": {},
     "output_type": "execute_result"
    }
   ],
   "source": [
    "text.split()"
   ]
  },
  {
   "cell_type": "code",
   "execution_count": 83,
   "id": "02410ebe",
   "metadata": {},
   "outputs": [
    {
     "data": {
      "text/plain": [
       "'Ronaldo was gifted a Rolls Royce by his girlfriend. What an expensive gift. Might be a world record of all the girlfriends on earthWhat an expensive gift. Might be a world record of all the girlfriends on earth'"
      ]
     },
     "execution_count": 83,
     "metadata": {},
     "output_type": "execute_result"
    }
   ],
   "source": [
    "text.strip()"
   ]
  },
  {
   "cell_type": "code",
   "execution_count": 84,
   "id": "004ba35f",
   "metadata": {},
   "outputs": [
    {
     "data": {
      "text/plain": [
       "['Ronaldo was gifted a Rolls Royce by his girlfriend',\n",
       " ' What an expensive gift',\n",
       " ' Might be a world record of all the girlfriends on earthWhat an expensive gift',\n",
       " ' Might be a world record of all the girlfriends on earth']"
      ]
     },
     "execution_count": 84,
     "metadata": {},
     "output_type": "execute_result"
    }
   ],
   "source": [
    "text.split(sep='.')"
   ]
  },
  {
   "cell_type": "code",
   "execution_count": 85,
   "id": "920c740d",
   "metadata": {},
   "outputs": [
    {
     "data": {
      "text/plain": [
       "'I am going to bed-Zzz-Zzz-Zzz-Zzz-Zzz-Zzz-Zzz-Zzz-Zzz-Zzz'"
      ]
     },
     "execution_count": 85,
     "metadata": {},
     "output_type": "execute_result"
    }
   ],
   "source": [
    "'I am going to bed' + '-Zzz'*10"
   ]
  },
  {
   "cell_type": "code",
   "execution_count": 86,
   "id": "f67c3972",
   "metadata": {},
   "outputs": [
    {
     "data": {
      "text/plain": [
       "['',\n",
       " 'onaldo was gifted a ',\n",
       " 'olls ',\n",
       " 'oyce by his girlfriend. What an expensive gift. Might be a world record of all the girlfriends on earthWhat an expensive gift. Might be a world record of all the girlfriends on earth']"
      ]
     },
     "execution_count": 86,
     "metadata": {},
     "output_type": "execute_result"
    }
   ],
   "source": [
    "text.split('R')"
   ]
  },
  {
   "cell_type": "code",
   "execution_count": null,
   "id": "fb973270",
   "metadata": {},
   "outputs": [],
   "source": []
  }
 ],
 "metadata": {
  "kernelspec": {
   "display_name": "Python 3 (ipykernel)",
   "language": "python",
   "name": "python3"
  },
  "language_info": {
   "codemirror_mode": {
    "name": "ipython",
    "version": 3
   },
   "file_extension": ".py",
   "mimetype": "text/x-python",
   "name": "python",
   "nbconvert_exporter": "python",
   "pygments_lexer": "ipython3",
   "version": "3.8.8"
  }
 },
 "nbformat": 4,
 "nbformat_minor": 5
}
