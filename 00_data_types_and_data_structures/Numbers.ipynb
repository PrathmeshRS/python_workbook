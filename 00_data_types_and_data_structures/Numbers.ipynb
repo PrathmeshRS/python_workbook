{
 "cells": [
  {
   "cell_type": "markdown",
   "id": "77b1ba0e",
   "metadata": {},
   "source": [
    "# BASIC ARITHEMATIC "
   ]
  },
  {
   "cell_type": "markdown",
   "id": "a70329b3",
   "metadata": {},
   "source": [
    "## Addition"
   ]
  },
  {
   "cell_type": "code",
   "execution_count": 1,
   "id": "751e86dd",
   "metadata": {},
   "outputs": [
    {
     "data": {
      "text/plain": [
       "3"
      ]
     },
     "execution_count": 1,
     "metadata": {},
     "output_type": "execute_result"
    }
   ],
   "source": [
    "1+2"
   ]
  },
  {
   "cell_type": "markdown",
   "id": "d3617a18",
   "metadata": {},
   "source": [
    "## Substraction"
   ]
  },
  {
   "cell_type": "code",
   "execution_count": 2,
   "id": "cc1447f3",
   "metadata": {},
   "outputs": [
    {
     "data": {
      "text/plain": [
       "(-1, 22)"
      ]
     },
     "execution_count": 2,
     "metadata": {},
     "output_type": "execute_result"
    }
   ],
   "source": [
    "1-2, 34-12"
   ]
  },
  {
   "cell_type": "markdown",
   "id": "97fbec78",
   "metadata": {},
   "source": [
    "## Multiplication "
   ]
  },
  {
   "cell_type": "code",
   "execution_count": 3,
   "id": "f0f1cf07",
   "metadata": {},
   "outputs": [
    {
     "data": {
      "text/plain": [
       "180"
      ]
     },
     "execution_count": 3,
     "metadata": {},
     "output_type": "execute_result"
    }
   ],
   "source": [
    "12*15"
   ]
  },
  {
   "cell_type": "markdown",
   "id": "17d34d99",
   "metadata": {},
   "source": [
    "## Division "
   ]
  },
  {
   "cell_type": "code",
   "execution_count": 4,
   "id": "fcc7c736",
   "metadata": {},
   "outputs": [
    {
     "data": {
      "text/plain": [
       "3.142857142857143"
      ]
     },
     "execution_count": 4,
     "metadata": {},
     "output_type": "execute_result"
    }
   ],
   "source": [
    "22/7"
   ]
  },
  {
   "cell_type": "markdown",
   "id": "ce472f68",
   "metadata": {},
   "source": [
    "## Floor Division "
   ]
  },
  {
   "cell_type": "code",
   "execution_count": 5,
   "id": "330861b8",
   "metadata": {},
   "outputs": [
    {
     "data": {
      "text/plain": [
       "3"
      ]
     },
     "execution_count": 5,
     "metadata": {},
     "output_type": "execute_result"
    }
   ],
   "source": [
    "22//7 "
   ]
  },
  {
   "cell_type": "markdown",
   "id": "d139b62c",
   "metadata": {},
   "source": [
    "## Exponential / Power "
   ]
  },
  {
   "cell_type": "code",
   "execution_count": 9,
   "id": "dba94c82",
   "metadata": {},
   "outputs": [
    {
     "data": {
      "text/plain": [
       "529"
      ]
     },
     "execution_count": 9,
     "metadata": {},
     "output_type": "execute_result"
    }
   ],
   "source": [
    "# Square\n",
    "23**2"
   ]
  },
  {
   "cell_type": "code",
   "execution_count": 10,
   "id": "2127ee20",
   "metadata": {},
   "outputs": [
    {
     "data": {
      "text/plain": [
       "22.0"
      ]
     },
     "execution_count": 10,
     "metadata": {},
     "output_type": "execute_result"
    }
   ],
   "source": [
    "# root\n",
    "484**0.5"
   ]
  },
  {
   "cell_type": "markdown",
   "id": "a0f3fc79",
   "metadata": {},
   "source": [
    "## Modulus\n",
    "#### for remainder"
   ]
  },
  {
   "cell_type": "code",
   "execution_count": 11,
   "id": "00932008",
   "metadata": {},
   "outputs": [
    {
     "data": {
      "text/plain": [
       "9"
      ]
     },
     "execution_count": 11,
     "metadata": {},
     "output_type": "execute_result"
    }
   ],
   "source": [
    "213%34"
   ]
  },
  {
   "cell_type": "markdown",
   "id": "32c5a191",
   "metadata": {},
   "source": [
    "# With variables "
   ]
  },
  {
   "cell_type": "code",
   "execution_count": 12,
   "id": "f7ddf6c1",
   "metadata": {},
   "outputs": [],
   "source": [
    "principal = 10000\n",
    "rate = 0.2 #20%\n",
    "time = 4 #in years\n",
    "simple_interest = principal * rate * time"
   ]
  },
  {
   "cell_type": "code",
   "execution_count": 13,
   "id": "078e0f31",
   "metadata": {},
   "outputs": [
    {
     "data": {
      "text/plain": [
       "8000.0"
      ]
     },
     "execution_count": 13,
     "metadata": {},
     "output_type": "execute_result"
    }
   ],
   "source": [
    "simple_interest"
   ]
  },
  {
   "cell_type": "code",
   "execution_count": null,
   "id": "c2e6c819",
   "metadata": {},
   "outputs": [],
   "source": []
  }
 ],
 "metadata": {
  "kernelspec": {
   "display_name": "Python 3 (ipykernel)",
   "language": "python",
   "name": "python3"
  },
  "language_info": {
   "codemirror_mode": {
    "name": "ipython",
    "version": 3
   },
   "file_extension": ".py",
   "mimetype": "text/x-python",
   "name": "python",
   "nbconvert_exporter": "python",
   "pygments_lexer": "ipython3",
   "version": "3.8.8"
  }
 },
 "nbformat": 4,
 "nbformat_minor": 5
}
